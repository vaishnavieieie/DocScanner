{
  "cells": [
    {
      "cell_type": "code",
      "execution_count": 72,
      "metadata": {
        "id": "qQPdh86jccF7"
      },
      "outputs": [],
      "source": [
        "import cv2\n",
        "# from google.colab.patches import cv2_imshow\n",
        "import numpy as np"
      ]
    },
    {
      "cell_type": "code",
      "execution_count": 73,
      "metadata": {
        "id": "tVYLHNj2ci4G"
      },
      "outputs": [],
      "source": [
        "img_width=480\n",
        "img_height=640"
      ]
    },
    {
      "cell_type": "code",
      "execution_count": 74,
      "metadata": {
        "id": "d-BECgyyfCiD"
      },
      "outputs": [],
      "source": [
        "image=cv2.imread('images/2.jpg')"
      ]
    },
    {
      "cell_type": "code",
      "execution_count": 75,
      "metadata": {
        "id": "nJt9gHjJfO3W"
      },
      "outputs": [],
      "source": [
        "def show_image(image):\n",
        "  # cv2_imshow(image)\n",
        "  cv2.imshow('image',image)\n",
        "  cv2.waitKey(0)\n",
        "  cv2.destroyAllWindows()"
      ]
    },
    {
      "cell_type": "code",
      "execution_count": 76,
      "metadata": {
        "colab": {
          "base_uri": "https://localhost:8080/",
          "height": 657
        },
        "id": "PXSf6WeEfeFL",
        "outputId": "86861c08-40d6-466e-f537-1ce67b853a48"
      },
      "outputs": [],
      "source": [
        "image=cv2.resize(image,(img_width,img_height))\n",
        "show_image(image)"
      ]
    },
    {
      "cell_type": "code",
      "execution_count": 77,
      "metadata": {
        "id": "iK7VEfqmgjCM"
      },
      "outputs": [],
      "source": [
        "image_gray=cv2.cvtColor(image,cv2.COLOR_BGR2GRAY)\n",
        "image_blur=cv2.GaussianBlur(image_gray,(5,5),1)"
      ]
    },
    {
      "cell_type": "code",
      "execution_count": 78,
      "metadata": {},
      "outputs": [],
      "source": [
        "show_image(image_blur)"
      ]
    },
    {
      "cell_type": "code",
      "execution_count": 79,
      "metadata": {
        "id": "k_dT89DMha84"
      },
      "outputs": [],
      "source": [
        "image_canny=cv2.Canny(image_blur,100,200)\n",
        "kernel=np.ones((3,3))"
      ]
    },
    {
      "cell_type": "code",
      "execution_count": 80,
      "metadata": {
        "id": "tYr2QIjei-3w"
      },
      "outputs": [],
      "source": [
        "image_closed=cv2.erode(cv2.dilate(image_canny,kernel,iterations=2),kernel, iterations=1)\n"
      ]
    },
    {
      "cell_type": "code",
      "execution_count": 81,
      "metadata": {
        "colab": {
          "base_uri": "https://localhost:8080/",
          "height": 657
        },
        "id": "hgW7AHe6gvuz",
        "outputId": "0154cac2-73dd-40aa-a12c-e14537cd6b5c"
      },
      "outputs": [],
      "source": [
        "show_image(image_closed)"
      ]
    },
    {
      "cell_type": "code",
      "execution_count": 82,
      "metadata": {
        "colab": {
          "base_uri": "https://localhost:8080/"
        },
        "id": "-cmFsQSrjHgU",
        "outputId": "58e8da71-b76d-4ade-94b8-b217dee264e3"
      },
      "outputs": [
        {
          "data": {
            "text/plain": [
              "array([[[  7,  67, 107],\n",
              "        [ 40, 102, 142],\n",
              "        [  9,  59,  99],\n",
              "        ...,\n",
              "        [ 66, 139, 164],\n",
              "        [ 61, 131, 156],\n",
              "        [ 71, 138, 164]],\n",
              "\n",
              "       [[ 81, 140, 179],\n",
              "        [ 37,  97, 135],\n",
              "        [ 55, 114, 153],\n",
              "        ...,\n",
              "        [ 47, 115, 145],\n",
              "        [ 45, 111, 142],\n",
              "        [ 78, 143, 174]],\n",
              "\n",
              "       [[  3,  68, 102],\n",
              "        [  6,  73, 106],\n",
              "        [ 21,  89, 122],\n",
              "        ...,\n",
              "        [ 40, 102, 140],\n",
              "        [  4,  66, 103],\n",
              "        [ 59, 119, 157]],\n",
              "\n",
              "       ...,\n",
              "\n",
              "       [[ 31,  85, 116],\n",
              "        [ 39,  93, 124],\n",
              "        [ 17,  70, 100],\n",
              "        ...,\n",
              "        [ 26,  87, 122],\n",
              "        [ 40,  99, 134],\n",
              "        [ 20,  78, 114]],\n",
              "\n",
              "       [[ 37,  91, 124],\n",
              "        [ 29,  83, 115],\n",
              "        [ 44,  98, 129],\n",
              "        ...,\n",
              "        [  2,  64,  98],\n",
              "        [  8,  68, 102],\n",
              "        [  7,  67, 101]],\n",
              "\n",
              "       [[ 17,  71, 104],\n",
              "        [  2,  54,  87],\n",
              "        [ 18,  72, 103],\n",
              "        ...,\n",
              "        [ 22,  86, 120],\n",
              "        [ 23,  86, 120],\n",
              "        [ 32,  95, 129]]], dtype=uint8)"
            ]
          },
          "execution_count": 82,
          "metadata": {},
          "output_type": "execute_result"
        }
      ],
      "source": [
        "# finding all contours\n",
        "image_contours=image.copy()\n",
        "image_f_contours=image.copy()\n",
        "contours,hierarchy=cv2.findContours(image_closed,cv2.RETR_EXTERNAL,cv2.CHAIN_APPROX_SIMPLE)\n",
        "cv2.drawContours(image_contours,contours,-1,(0,255,0),10)"
      ]
    },
    {
      "cell_type": "code",
      "execution_count": 83,
      "metadata": {
        "colab": {
          "base_uri": "https://localhost:8080/",
          "height": 657
        },
        "id": "6qOio9ZukaDj",
        "outputId": "ccc5a1a9-122a-4c78-b4f4-a5bf4df95e78"
      },
      "outputs": [],
      "source": [
        "show_image(image_contours)"
      ]
    },
    {
      "cell_type": "code",
      "execution_count": 84,
      "metadata": {
        "id": "GYNFhwZRkMWL"
      },
      "outputs": [],
      "source": [
        "# finding biggest contours based on a threshold\n",
        "def find_biggest_contour(contours):\n",
        "  contours=sorted(contours,key=cv2.contourArea,reverse=True)\n",
        "  biggest_contour=np.array([])\n",
        "  max_area=0\n",
        "  for i in contours:\n",
        "    area=cv2.contourArea(i)\n",
        "    if area>4000:\n",
        "      perimeter=cv2.arcLength(i,True)\n",
        "      # to get the contour approximated as a rectangle\n",
        "      app=cv2.approxPolyDP(i,0.02*perimeter,True)\n",
        "      if area>max_area and len(app)==4:\n",
        "        biggest_contour=app\n",
        "        max_area=area\n",
        "  return biggest_contour,max_area"
      ]
    },
    {
      "cell_type": "code",
      "execution_count": 85,
      "metadata": {
        "colab": {
          "base_uri": "https://localhost:8080/"
        },
        "id": "gPdTdHlcuIA4",
        "outputId": "7067b464-b1e0-4b43-df73-ca830ba64272"
      },
      "outputs": [
        {
          "data": {
            "text/plain": [
              "array([[[447,  40]],\n",
              "\n",
              "       [[ 36,  37]],\n",
              "\n",
              "       [[ 14, 600]],\n",
              "\n",
              "       [[460, 605]]], dtype=int32)"
            ]
          },
          "execution_count": 85,
          "metadata": {},
          "output_type": "execute_result"
        }
      ],
      "source": [
        "biggest_contour,max_area=find_biggest_contour(contours)\n",
        "biggest_contour"
      ]
    },
    {
      "cell_type": "code",
      "execution_count": 86,
      "metadata": {
        "colab": {
          "base_uri": "https://localhost:8080/",
          "height": 657
        },
        "id": "lYaKHaMnrqgC",
        "outputId": "eeee46ea-270e-4a3e-90f5-683f19858fe7"
      },
      "outputs": [],
      "source": [
        "cv2.drawContours(image_f_contours,biggest_contour,-1,(0,255,0),10)\n",
        "show_image(image_f_contours)"
      ]
    },
    {
      "cell_type": "code",
      "execution_count": 87,
      "metadata": {
        "id": "JgVnc9j8u4eU"
      },
      "outputs": [],
      "source": [
        "warped_image=image.copy()\n",
        "if biggest_contour.size!=0:\n",
        "  final_points=np.float32([[img_width,0],[0,0],[0 ,img_height],[img_width,img_height]])\n",
        "  perspective=cv2.getPerspectiveTransform(biggest_contour.astype(np.float32),final_points)\n",
        "  warped_image=cv2.warpPerspective(image,perspective,(img_width,img_height))\n"
      ]
    },
    {
      "cell_type": "code",
      "execution_count": 88,
      "metadata": {
        "colab": {
          "base_uri": "https://localhost:8080/",
          "height": 657
        },
        "id": "hIgBdYCiyN3A",
        "outputId": "deceea2b-863e-47a5-c8c3-3e127c277e18"
      },
      "outputs": [],
      "source": [
        "show_image(warped_image)"
      ]
    },
    {
      "cell_type": "code",
      "execution_count": null,
      "metadata": {
        "id": "56cU1oeRzQiW"
      },
      "outputs": [],
      "source": [
        "# make pdf"
      ]
    },
    {
      "cell_type": "code",
      "execution_count": null,
      "metadata": {
        "id": "KiujtMe0zSaM"
      },
      "outputs": [],
      "source": [
        "# make UI"
      ]
    }
  ],
  "metadata": {
    "colab": {
      "provenance": []
    },
    "kernelspec": {
      "display_name": "Python 3",
      "name": "python3"
    },
    "language_info": {
      "codemirror_mode": {
        "name": "ipython",
        "version": 3
      },
      "file_extension": ".py",
      "mimetype": "text/x-python",
      "name": "python",
      "nbconvert_exporter": "python",
      "pygments_lexer": "ipython3",
      "version": "3.9.0"
    }
  },
  "nbformat": 4,
  "nbformat_minor": 0
}
