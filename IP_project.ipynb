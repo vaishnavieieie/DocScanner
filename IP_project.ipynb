{
  "cells": [
    {
      "cell_type": "code",
      "execution_count": 876,
      "metadata": {
        "id": "qQPdh86jccF7"
      },
      "outputs": [],
      "source": [
        "import cv2\n",
        "# from google.colab.patches import cv2_imshow\n",
        "import numpy as np"
      ]
    },
    {
      "cell_type": "code",
      "execution_count": 877,
      "metadata": {
        "id": "tVYLHNj2ci4G"
      },
      "outputs": [],
      "source": [
        "img_width=480\n",
        "img_height=640"
      ]
    },
    {
      "cell_type": "code",
      "execution_count": 878,
      "metadata": {
        "id": "d-BECgyyfCiD"
      },
      "outputs": [],
      "source": [
        "image=cv2.imread('images/4.jpg')"
      ]
    },
    {
      "cell_type": "code",
      "execution_count": 879,
      "metadata": {
        "id": "nJt9gHjJfO3W"
      },
      "outputs": [],
      "source": [
        "def show_image(image):\n",
        "  # cv2_imshow(image)\n",
        "  cv2.imshow('image',image)\n",
        "  cv2.waitKey(0)\n",
        "  cv2.destroyAllWindows()"
      ]
    },
    {
      "cell_type": "code",
      "execution_count": 880,
      "metadata": {
        "colab": {
          "base_uri": "https://localhost:8080/",
          "height": 657
        },
        "id": "PXSf6WeEfeFL",
        "outputId": "86861c08-40d6-466e-f537-1ce67b853a48"
      },
      "outputs": [],
      "source": [
        "image=cv2.resize(image,(img_width,img_height))\n",
        "show_image(image)"
      ]
    },
    {
      "cell_type": "code",
      "execution_count": 881,
      "metadata": {
        "id": "iK7VEfqmgjCM"
      },
      "outputs": [],
      "source": [
        "image_gray=cv2.cvtColor(image,cv2.COLOR_BGR2GRAY)\n",
        "image_blur=cv2.GaussianBlur(image_gray,(5,5),1)"
      ]
    },
    {
      "cell_type": "code",
      "execution_count": 882,
      "metadata": {},
      "outputs": [],
      "source": [
        "# _, binary_image = cv2.threshold(image_blur, 180, 255, cv2.THRESH_BINARY)\n",
        "\n",
        "# binary_image = binary_image / 255\n",
        "\n",
        "# cv2.imshow(\"Binary Image\", binary_image)\n",
        "# cv2.waitKey(0)\n",
        "# cv2.destroyAllWindows()"
      ]
    },
    {
      "cell_type": "code",
      "execution_count": 883,
      "metadata": {},
      "outputs": [],
      "source": [
        "show_image(image_blur)"
      ]
    },
    {
      "cell_type": "code",
      "execution_count": 884,
      "metadata": {
        "id": "k_dT89DMha84"
      },
      "outputs": [],
      "source": [
        "image_canny=cv2.Canny(image_blur,130,255)\n",
        "kernel=np.ones((3,3))"
      ]
    },
    {
      "cell_type": "code",
      "execution_count": 885,
      "metadata": {
        "id": "tYr2QIjei-3w"
      },
      "outputs": [],
      "source": [
        "image_closed=cv2.erode(cv2.dilate(image_canny,kernel,iterations=3),kernel, iterations=1)\n"
      ]
    },
    {
      "cell_type": "code",
      "execution_count": 886,
      "metadata": {
        "colab": {
          "base_uri": "https://localhost:8080/",
          "height": 657
        },
        "id": "hgW7AHe6gvuz",
        "outputId": "0154cac2-73dd-40aa-a12c-e14537cd6b5c"
      },
      "outputs": [],
      "source": [
        "show_image(image_closed)"
      ]
    },
    {
      "cell_type": "code",
      "execution_count": 887,
      "metadata": {
        "colab": {
          "base_uri": "https://localhost:8080/"
        },
        "id": "-cmFsQSrjHgU",
        "outputId": "58e8da71-b76d-4ade-94b8-b217dee264e3"
      },
      "outputs": [
        {
          "data": {
            "text/plain": [
              "array([[[ 31,  52,  90],\n",
              "        [ 34,  55,  93],\n",
              "        [ 32,  53,  91],\n",
              "        ...,\n",
              "        [ 11,  31,  66],\n",
              "        [ 10,  30,  65],\n",
              "        [ 10,  30,  65]],\n",
              "\n",
              "       [[ 28,  49,  87],\n",
              "        [ 32,  53,  91],\n",
              "        [ 32,  53,  91],\n",
              "        ...,\n",
              "        [ 12,  32,  67],\n",
              "        [ 12,  32,  67],\n",
              "        [ 11,  31,  66]],\n",
              "\n",
              "       [[ 27,  48,  86],\n",
              "        [ 30,  51,  89],\n",
              "        [ 33,  54,  92],\n",
              "        ...,\n",
              "        [ 11,  31,  66],\n",
              "        [ 11,  31,  66],\n",
              "        [ 11,  31,  66]],\n",
              "\n",
              "       ...,\n",
              "\n",
              "       [[  0, 255,   0],\n",
              "        [  0, 255,   0],\n",
              "        [  0, 255,   0],\n",
              "        ...,\n",
              "        [ 23,  50,  97],\n",
              "        [ 25,  53, 100],\n",
              "        [ 26,  54, 101]],\n",
              "\n",
              "       [[  0, 255,   0],\n",
              "        [  0, 255,   0],\n",
              "        [  0, 255,   0],\n",
              "        ...,\n",
              "        [ 24,  51,  98],\n",
              "        [ 23,  51,  98],\n",
              "        [ 31,  59, 106]],\n",
              "\n",
              "       [[  0, 255,   0],\n",
              "        [  0, 255,   0],\n",
              "        [  0, 255,   0],\n",
              "        ...,\n",
              "        [ 18,  45,  92],\n",
              "        [ 20,  48,  95],\n",
              "        [ 18,  46,  93]]], dtype=uint8)"
            ]
          },
          "execution_count": 887,
          "metadata": {},
          "output_type": "execute_result"
        }
      ],
      "source": [
        "# finding all contours\n",
        "image_contours=image.copy()\n",
        "image_f_contours=image.copy()\n",
        "contours,hierarchy=cv2.findContours(image_closed,cv2.RETR_EXTERNAL,cv2.CHAIN_APPROX_SIMPLE)\n",
        "cv2.drawContours(image_contours,contours,-1,(0,255,0),10)"
      ]
    },
    {
      "cell_type": "code",
      "execution_count": 888,
      "metadata": {
        "colab": {
          "base_uri": "https://localhost:8080/",
          "height": 657
        },
        "id": "6qOio9ZukaDj",
        "outputId": "ccc5a1a9-122a-4c78-b4f4-a5bf4df95e78"
      },
      "outputs": [],
      "source": [
        "show_image(image_contours)"
      ]
    },
    {
      "cell_type": "code",
      "execution_count": 889,
      "metadata": {
        "id": "GYNFhwZRkMWL"
      },
      "outputs": [],
      "source": [
        "# biggest contours\n",
        "def find_biggest_contour(contours):\n",
        "  contours=sorted(contours,key=cv2.contourArea,reverse=True)\n",
        "  biggest_contour=np.array([])\n",
        "  max_area=0\n",
        "  for i in contours:\n",
        "    area=cv2.contourArea(i)\n",
        "    if area>4000:\n",
        "      perimeter=cv2.arcLength(i,True)\n",
        "      app=cv2.approxPolyDP(i,0.02*perimeter,True)\n",
        "      if area>max_area and len(app)==4:\n",
        "        biggest_contour=app\n",
        "        max_area=area\n",
        "  return biggest_contour,max_area"
      ]
    },
    {
      "cell_type": "code",
      "execution_count": 890,
      "metadata": {
        "colab": {
          "base_uri": "https://localhost:8080/"
        },
        "id": "gPdTdHlcuIA4",
        "outputId": "7067b464-b1e0-4b43-df73-ca830ba64272"
      },
      "outputs": [
        {
          "data": {
            "text/plain": [
              "array([[[429,  28]],\n",
              "\n",
              "       [[ 18,  39]],\n",
              "\n",
              "       [[  0, 639]],\n",
              "\n",
              "       [[456, 618]]], dtype=int32)"
            ]
          },
          "execution_count": 890,
          "metadata": {},
          "output_type": "execute_result"
        }
      ],
      "source": [
        "biggest_contour,max_area=find_biggest_contour(contours)\n",
        "biggest_contour"
      ]
    },
    {
      "cell_type": "code",
      "execution_count": 891,
      "metadata": {
        "colab": {
          "base_uri": "https://localhost:8080/",
          "height": 657
        },
        "id": "lYaKHaMnrqgC",
        "outputId": "eeee46ea-270e-4a3e-90f5-683f19858fe7"
      },
      "outputs": [],
      "source": [
        "cv2.drawContours(image_f_contours,biggest_contour,-1,(0,255,0),10)\n",
        "show_image(image_f_contours)"
      ]
    },
    {
      "cell_type": "code",
      "execution_count": 892,
      "metadata": {
        "id": "JgVnc9j8u4eU"
      },
      "outputs": [],
      "source": [
        "warped_image=image.copy()\n",
        "if biggest_contour.size!=0:\n",
        "  final_points=np.float32([[img_width,0],[0,0],[0 ,img_height],[img_width,img_height]])\n",
        "  perspective=cv2.getPerspectiveTransform(biggest_contour.astype(np.float32),final_points)\n",
        "  warped_image=cv2.warpPerspective(image,perspective,(img_width,img_height))\n"
      ]
    },
    {
      "cell_type": "code",
      "execution_count": 893,
      "metadata": {
        "colab": {
          "base_uri": "https://localhost:8080/",
          "height": 657
        },
        "id": "hIgBdYCiyN3A",
        "outputId": "deceea2b-863e-47a5-c8c3-3e127c277e18"
      },
      "outputs": [],
      "source": [
        "show_image(warped_image)"
      ]
    },
    {
      "cell_type": "code",
      "execution_count": 894,
      "metadata": {},
      "outputs": [],
      "source": [
        "# warped_image=cv2.cvtColor(warped_image,cv2.COLOR_BGR2GRAY)"
      ]
    },
    {
      "cell_type": "code",
      "execution_count": 895,
      "metadata": {},
      "outputs": [],
      "source": [
        "# clahe = cv2.createCLAHE(clipLimit=2.0, tileGridSize=(8, 8))\n",
        "# enhanced = clahe.apply(warped_image)\n",
        "# binary = cv2.adaptiveThreshold(enhanced, 255, cv2.ADAPTIVE_THRESH_MEAN_C, cv2.THRESH_BINARY, 21, 5)\n",
        "# show_image(binary)"
      ]
    },
    {
      "cell_type": "code",
      "execution_count": 896,
      "metadata": {},
      "outputs": [],
      "source": [
        "# equ = cv2.equalizeHist(warped_image)\n",
        "# show_image(equ)"
      ]
    },
    {
      "cell_type": "code",
      "execution_count": 897,
      "metadata": {},
      "outputs": [],
      "source": [
        "# _, binary = cv2.threshold(warped_image, 0, 255, cv2.THRESH_BINARY + cv2.THRESH_OTSU)\n",
        "# show_image(binary)"
      ]
    },
    {
      "cell_type": "code",
      "execution_count": 898,
      "metadata": {},
      "outputs": [],
      "source": [
        "b, g, r = cv2.split(warped_image)\n",
        "# apply adaptive to color channels\n",
        "clahe = cv2.createCLAHE(clipLimit=2.0, tileGridSize=(8, 8))\n",
        "blue = clahe.apply(b)\n",
        "green = clahe.apply(g)\n",
        "red = clahe.apply(r)\n",
        "# merge channels into image\n",
        "equ = cv2.merge((blue, green, red))\n",
        "show_image(equ)\n"
      ]
    },
    {
      "cell_type": "code",
      "execution_count": 899,
      "metadata": {
        "id": "56cU1oeRzQiW"
      },
      "outputs": [],
      "source": [
        "# make pdf"
      ]
    },
    {
      "cell_type": "code",
      "execution_count": 900,
      "metadata": {
        "id": "KiujtMe0zSaM"
      },
      "outputs": [],
      "source": [
        "# make UI"
      ]
    }
  ],
  "metadata": {
    "colab": {
      "provenance": []
    },
    "kernelspec": {
      "display_name": "Python 3",
      "name": "python3"
    },
    "language_info": {
      "codemirror_mode": {
        "name": "ipython",
        "version": 3
      },
      "file_extension": ".py",
      "mimetype": "text/x-python",
      "name": "python",
      "nbconvert_exporter": "python",
      "pygments_lexer": "ipython3",
      "version": "3.9.0"
    }
  },
  "nbformat": 4,
  "nbformat_minor": 0
}
