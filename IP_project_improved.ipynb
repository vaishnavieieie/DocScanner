{
  "cells": [
    {
      "cell_type": "code",
      "execution_count": 200,
      "metadata": {
        "id": "qQPdh86jccF7"
      },
      "outputs": [],
      "source": [
        "import cv2\n",
        "# from google.colab.patches import cv2_imshow\n",
        "import numpy as np"
      ]
    },
    {
      "cell_type": "code",
      "execution_count": 201,
      "metadata": {
        "id": "tVYLHNj2ci4G"
      },
      "outputs": [],
      "source": [
        "# img_width=480\n",
        "# img_height=640\n",
        "img_height=800"
      ]
    },
    {
      "cell_type": "code",
      "execution_count": 202,
      "metadata": {
        "id": "d-BECgyyfCiD"
      },
      "outputs": [],
      "source": [
        "image=cv2.imread('images/1.jpg')"
      ]
    },
    {
      "cell_type": "code",
      "execution_count": 203,
      "metadata": {},
      "outputs": [],
      "source": [
        "# image height and width\n",
        "height,width=image.shape[:2]\n",
        "# aspect ratio of image\n",
        "aspect_ratio=width/height\n",
        "img_width=int(img_height*aspect_ratio)\n",
        "# resize image\n",
        "image=cv2.resize(image,(int(img_height*aspect_ratio),img_height))"
      ]
    },
    {
      "cell_type": "code",
      "execution_count": 204,
      "metadata": {
        "id": "nJt9gHjJfO3W"
      },
      "outputs": [],
      "source": [
        "def show_image(image):\n",
        "  # cv2_imshow(image)\n",
        "  cv2.imshow('image',image)\n",
        "  cv2.waitKey(0)\n",
        "  cv2.destroyAllWindows()"
      ]
    },
    {
      "cell_type": "code",
      "execution_count": 205,
      "metadata": {
        "colab": {
          "base_uri": "https://localhost:8080/",
          "height": 657
        },
        "id": "PXSf6WeEfeFL",
        "outputId": "86861c08-40d6-466e-f537-1ce67b853a48"
      },
      "outputs": [],
      "source": [
        "# image=cv2.resize(image,(img_width,img_height))\n",
        "show_image(image)"
      ]
    },
    {
      "cell_type": "code",
      "execution_count": 206,
      "metadata": {
        "id": "iK7VEfqmgjCM"
      },
      "outputs": [],
      "source": [
        "image_gray=cv2.cvtColor(image,cv2.COLOR_BGR2GRAY)"
      ]
    },
    {
      "cell_type": "code",
      "execution_count": 207,
      "metadata": {},
      "outputs": [],
      "source": [
        "show_image(image_gray)"
      ]
    },
    {
      "cell_type": "code",
      "execution_count": 208,
      "metadata": {},
      "outputs": [],
      "source": [
        "image_blur=cv2.GaussianBlur(image_gray,(5,5),1)"
      ]
    },
    {
      "cell_type": "code",
      "execution_count": 209,
      "metadata": {},
      "outputs": [],
      "source": [
        "show_image(image_blur)"
      ]
    },
    {
      "cell_type": "code",
      "execution_count": 210,
      "metadata": {
        "id": "k_dT89DMha84"
      },
      "outputs": [],
      "source": [
        "image_canny=cv2.Canny(image_blur,130,255)\n",
        "kernel=np.ones((3,3))"
      ]
    },
    {
      "cell_type": "code",
      "execution_count": 211,
      "metadata": {
        "id": "tYr2QIjei-3w"
      },
      "outputs": [],
      "source": [
        "image_closed=cv2.erode(cv2.dilate(image_canny,kernel,iterations=3),kernel, iterations=1)\n"
      ]
    },
    {
      "cell_type": "code",
      "execution_count": 212,
      "metadata": {
        "colab": {
          "base_uri": "https://localhost:8080/",
          "height": 657
        },
        "id": "hgW7AHe6gvuz",
        "outputId": "0154cac2-73dd-40aa-a12c-e14537cd6b5c"
      },
      "outputs": [],
      "source": [
        "show_image(image_closed)"
      ]
    },
    {
      "cell_type": "code",
      "execution_count": 213,
      "metadata": {
        "colab": {
          "base_uri": "https://localhost:8080/"
        },
        "id": "-cmFsQSrjHgU",
        "outputId": "58e8da71-b76d-4ade-94b8-b217dee264e3"
      },
      "outputs": [
        {
          "data": {
            "text/plain": [
              "array([[[ 18,  65, 107],\n",
              "        [ 16,  58, 102],\n",
              "        [ 75, 119, 163],\n",
              "        ...,\n",
              "        [ 48, 117, 147],\n",
              "        [ 57, 127, 157],\n",
              "        [ 53, 118, 151]],\n",
              "\n",
              "       [[ 43,  85, 131],\n",
              "        [ 62, 101, 148],\n",
              "        [  2,  36,  83],\n",
              "        ...,\n",
              "        [ 74, 144, 173],\n",
              "        [ 89, 161, 189],\n",
              "        [ 61, 134, 164]],\n",
              "\n",
              "       [[ 48,  88, 138],\n",
              "        [113, 152, 203],\n",
              "        [ 98, 137, 186],\n",
              "        ...,\n",
              "        [ 19,  82, 112],\n",
              "        [ 28,  91, 121],\n",
              "        [ 21,  86, 119]],\n",
              "\n",
              "       ...,\n",
              "\n",
              "       [[  6,  54,  96],\n",
              "        [  3,  49,  91],\n",
              "        [ 33,  78, 121],\n",
              "        ...,\n",
              "        [ 11,  52,  97],\n",
              "        [ 22,  63, 108],\n",
              "        [ 31,  72, 115]],\n",
              "\n",
              "       [[  9,  52,  92],\n",
              "        [ 16,  64, 104],\n",
              "        [ 18,  66, 106],\n",
              "        ...,\n",
              "        [ 10,  52,  97],\n",
              "        [ 43,  84, 129],\n",
              "        [  2,  39,  83]],\n",
              "\n",
              "       [[ 25,  78, 116],\n",
              "        [ 27,  79, 116],\n",
              "        [ 20,  72, 109],\n",
              "        ...,\n",
              "        [ 47,  90, 133],\n",
              "        [ 68, 112, 155],\n",
              "        [ 64, 111, 152]]], dtype=uint8)"
            ]
          },
          "execution_count": 213,
          "metadata": {},
          "output_type": "execute_result"
        }
      ],
      "source": [
        "# finding all contours\n",
        "image_contours=image.copy()\n",
        "image_f_contours=image.copy()\n",
        "contours,hierarchy=cv2.findContours(image_closed,cv2.RETR_EXTERNAL,cv2.CHAIN_APPROX_SIMPLE)\n",
        "cv2.drawContours(image_contours,contours,-1,(0,255,0),10)"
      ]
    },
    {
      "cell_type": "code",
      "execution_count": 214,
      "metadata": {
        "colab": {
          "base_uri": "https://localhost:8080/",
          "height": 657
        },
        "id": "6qOio9ZukaDj",
        "outputId": "ccc5a1a9-122a-4c78-b4f4-a5bf4df95e78"
      },
      "outputs": [],
      "source": [
        "show_image(image_contours)"
      ]
    },
    {
      "cell_type": "code",
      "execution_count": 215,
      "metadata": {
        "id": "GYNFhwZRkMWL"
      },
      "outputs": [],
      "source": [
        "# biggest contour\n",
        "def find_biggest_contour(contours):\n",
        "  contours=sorted(contours,key=cv2.contourArea,reverse=True)\n",
        "  biggest_contour=np.array([])\n",
        "  max_area=0\n",
        "  for i in contours:\n",
        "    area=cv2.contourArea(i)\n",
        "    if area>4000:\n",
        "      perimeter=cv2.arcLength(i,True)\n",
        "      app=cv2.approxPolyDP(i,0.02*perimeter,True)\n",
        "      if area>max_area and len(app)==4:\n",
        "        biggest_contour=app\n",
        "        max_area=area\n",
        "  return biggest_contour,max_area"
      ]
    },
    {
      "cell_type": "code",
      "execution_count": 216,
      "metadata": {
        "colab": {
          "base_uri": "https://localhost:8080/"
        },
        "id": "gPdTdHlcuIA4",
        "outputId": "7067b464-b1e0-4b43-df73-ca830ba64272"
      },
      "outputs": [
        {
          "data": {
            "text/plain": [
              "array([[[ 49,  23]],\n",
              "\n",
              "       [[ 26, 778]],\n",
              "\n",
              "       [[619, 780]],\n",
              "\n",
              "       [[599,  33]]], dtype=int32)"
            ]
          },
          "execution_count": 216,
          "metadata": {},
          "output_type": "execute_result"
        }
      ],
      "source": [
        "biggest_contour,max_area=find_biggest_contour(contours)\n",
        "biggest_contour"
      ]
    },
    {
      "cell_type": "code",
      "execution_count": 217,
      "metadata": {
        "colab": {
          "base_uri": "https://localhost:8080/",
          "height": 657
        },
        "id": "lYaKHaMnrqgC",
        "outputId": "eeee46ea-270e-4a3e-90f5-683f19858fe7"
      },
      "outputs": [],
      "source": [
        "cv2.drawContours(image_f_contours,biggest_contour,-1,(0,255,0),10)\n",
        "show_image(image_f_contours)"
      ]
    },
    {
      "cell_type": "code",
      "execution_count": 218,
      "metadata": {},
      "outputs": [],
      "source": [
        "rect=np.zeros((4,2),dtype='float32')\n",
        "biggest_contour=np.squeeze(biggest_contour,axis=1)\n",
        "if biggest_contour.shape[0] == 4:\n",
        "    s = np.sum(biggest_contour,axis=1)\n",
        "    rect[1] = biggest_contour[np.argmin(s)]\n",
        "    rect[3] = biggest_contour[np.argmax(s)]\n",
        "    diff = np.diff(biggest_contour, axis=1)\n",
        "    rect[0] = biggest_contour[np.argmin(diff)]\n",
        "    rect[2] = biggest_contour[np.argmax(diff)]\n",
        "    rect.tolist()"
      ]
    },
    {
      "cell_type": "code",
      "execution_count": 219,
      "metadata": {
        "id": "JgVnc9j8u4eU"
      },
      "outputs": [],
      "source": [
        "warped_image=image.copy()\n",
        "if biggest_contour.size!=0:\n",
        "  final_points=np.float32([[img_width,0],[0,0],[0 ,img_height],[img_width,img_height]])\n",
        "  perspective=cv2.getPerspectiveTransform(rect.astype(np.float32),final_points)\n",
        "  warped_image=cv2.warpPerspective(image,perspective,(img_width,img_height))\n"
      ]
    },
    {
      "cell_type": "code",
      "execution_count": 220,
      "metadata": {},
      "outputs": [
        {
          "data": {
            "text/plain": [
              "636"
            ]
          },
          "execution_count": 220,
          "metadata": {},
          "output_type": "execute_result"
        }
      ],
      "source": [
        "img_width"
      ]
    },
    {
      "cell_type": "code",
      "execution_count": 221,
      "metadata": {
        "colab": {
          "base_uri": "https://localhost:8080/",
          "height": 657
        },
        "id": "hIgBdYCiyN3A",
        "outputId": "deceea2b-863e-47a5-c8c3-3e127c277e18"
      },
      "outputs": [],
      "source": [
        "show_image(warped_image)"
      ]
    },
    {
      "cell_type": "code",
      "execution_count": 222,
      "metadata": {},
      "outputs": [],
      "source": [
        "b, g, r = cv2.split(warped_image)\n",
        "clahe = cv2.createCLAHE(clipLimit=2.0, tileGridSize=(8, 8))\n",
        "blue = clahe.apply(b)\n",
        "green = clahe.apply(g)\n",
        "red = clahe.apply(r)\n",
        "equ = cv2.merge((blue, green, red))\n",
        "show_image(equ)\n"
      ]
    }
  ],
  "metadata": {
    "colab": {
      "provenance": []
    },
    "kernelspec": {
      "display_name": "Python 3",
      "name": "python3"
    },
    "language_info": {
      "codemirror_mode": {
        "name": "ipython",
        "version": 3
      },
      "file_extension": ".py",
      "mimetype": "text/x-python",
      "name": "python",
      "nbconvert_exporter": "python",
      "pygments_lexer": "ipython3",
      "version": "3.9.0"
    }
  },
  "nbformat": 4,
  "nbformat_minor": 0
}
